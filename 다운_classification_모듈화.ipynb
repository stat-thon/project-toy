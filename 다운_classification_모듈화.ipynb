{
 "cells": [
  {
   "cell_type": "markdown",
   "id": "d1e3122a",
   "metadata": {},
   "source": [
    "## Setting"
   ]
  },
  {
   "cell_type": "code",
   "execution_count": 2,
   "id": "e55a6c79",
   "metadata": {},
   "outputs": [],
   "source": [
    "# set module\n",
    "import pandas as pd\n",
    "import numpy as np\n",
    "import tqdm\n",
    "\n",
    "# preprocessing\n",
    "from sklearn.preprocessing import LabelEncoder, StandardScaler\n",
    "\n",
    "# train vaild split\n",
    "from sklearn.model_selection import train_test_split\n",
    "\n",
    "# modeling \n",
    "from sklearn.ensemble import RandomForestClassifier\n",
    "from lightgbm import LGBMClassifier\n",
    "from xgboost import XGBClassifier\n",
    "\n",
    "# confusion matrix\n",
    "from sklearn.metrics import confusion_matrix\n",
    "\n",
    "# graph\n",
    "from matplotlib import pyplot as plt\n",
    "import seaborn as sns"
   ]
  },
  {
   "cell_type": "code",
   "execution_count": 6,
   "id": "57fa30ca",
   "metadata": {},
   "outputs": [],
   "source": [
    "# load data\n",
    "data = pd.read_csv('../data/loan_train.csv')\n",
    "submission = pd.read_csv('../data/loan_test.csv')"
   ]
  },
  {
   "cell_type": "code",
   "execution_count": 8,
   "id": "f8165403",
   "metadata": {},
   "outputs": [
    {
     "data": {
      "text/plain": [
       "Gender                13\n",
       "Married                3\n",
       "Dependents            15\n",
       "Education              0\n",
       "Self_Employed         32\n",
       "Applicant_Income       0\n",
       "Coapplicant_Income     0\n",
       "Loan_Amount            0\n",
       "Term                  14\n",
       "Credit_History        50\n",
       "Area                   0\n",
       "Status                 0\n",
       "dtype: int64"
      ]
     },
     "execution_count": 8,
     "metadata": {},
     "output_type": "execute_result"
    }
   ],
   "source": [
    "# search the NaN\n",
    "data.isna().sum()"
   ]
  },
  {
   "cell_type": "code",
   "execution_count": 13,
   "id": "9aa3e523",
   "metadata": {},
   "outputs": [],
   "source": [
    "# 결측치가 포함된 행 전부 제거\n",
    "complete_data = data.dropna()"
   ]
  },
  {
   "cell_type": "markdown",
   "id": "21683876",
   "metadata": {},
   "source": [
    "- 결측치 제거 전 train : test 비율 약 6:4 (0.62)\n",
    "- 결측치 제거 후 train : test 비율 약 6:4 (0.58)"
   ]
  },
  {
   "cell_type": "code",
   "execution_count": 20,
   "id": "30be625a",
   "metadata": {},
   "outputs": [
    {
     "data": {
      "text/html": [
       "<div>\n",
       "<style scoped>\n",
       "    .dataframe tbody tr th:only-of-type {\n",
       "        vertical-align: middle;\n",
       "    }\n",
       "\n",
       "    .dataframe tbody tr th {\n",
       "        vertical-align: top;\n",
       "    }\n",
       "\n",
       "    .dataframe thead th {\n",
       "        text-align: right;\n",
       "    }\n",
       "</style>\n",
       "<table border=\"1\" class=\"dataframe\">\n",
       "  <thead>\n",
       "    <tr style=\"text-align: right;\">\n",
       "      <th></th>\n",
       "      <th>Gender</th>\n",
       "      <th>Married</th>\n",
       "      <th>Dependents</th>\n",
       "      <th>Education</th>\n",
       "      <th>Self_Employed</th>\n",
       "      <th>Applicant_Income</th>\n",
       "      <th>Coapplicant_Income</th>\n",
       "      <th>Loan_Amount</th>\n",
       "      <th>Term</th>\n",
       "      <th>Credit_History</th>\n",
       "      <th>Area</th>\n",
       "      <th>Status</th>\n",
       "    </tr>\n",
       "  </thead>\n",
       "  <tbody>\n",
       "    <tr>\n",
       "      <th>0</th>\n",
       "      <td>Male</td>\n",
       "      <td>No</td>\n",
       "      <td>0</td>\n",
       "      <td>Graduate</td>\n",
       "      <td>No</td>\n",
       "      <td>584900</td>\n",
       "      <td>0.0</td>\n",
       "      <td>15000000</td>\n",
       "      <td>360.0</td>\n",
       "      <td>1.0</td>\n",
       "      <td>Urban</td>\n",
       "      <td>Y</td>\n",
       "    </tr>\n",
       "    <tr>\n",
       "      <th>1</th>\n",
       "      <td>Male</td>\n",
       "      <td>Yes</td>\n",
       "      <td>1</td>\n",
       "      <td>Graduate</td>\n",
       "      <td>No</td>\n",
       "      <td>458300</td>\n",
       "      <td>150800.0</td>\n",
       "      <td>12800000</td>\n",
       "      <td>360.0</td>\n",
       "      <td>1.0</td>\n",
       "      <td>Rural</td>\n",
       "      <td>N</td>\n",
       "    </tr>\n",
       "    <tr>\n",
       "      <th>2</th>\n",
       "      <td>Male</td>\n",
       "      <td>Yes</td>\n",
       "      <td>0</td>\n",
       "      <td>Graduate</td>\n",
       "      <td>Yes</td>\n",
       "      <td>300000</td>\n",
       "      <td>0.0</td>\n",
       "      <td>6600000</td>\n",
       "      <td>360.0</td>\n",
       "      <td>1.0</td>\n",
       "      <td>Urban</td>\n",
       "      <td>Y</td>\n",
       "    </tr>\n",
       "    <tr>\n",
       "      <th>3</th>\n",
       "      <td>Male</td>\n",
       "      <td>Yes</td>\n",
       "      <td>0</td>\n",
       "      <td>Not Graduate</td>\n",
       "      <td>No</td>\n",
       "      <td>258300</td>\n",
       "      <td>235800.0</td>\n",
       "      <td>12000000</td>\n",
       "      <td>360.0</td>\n",
       "      <td>1.0</td>\n",
       "      <td>Urban</td>\n",
       "      <td>Y</td>\n",
       "    </tr>\n",
       "    <tr>\n",
       "      <th>4</th>\n",
       "      <td>Male</td>\n",
       "      <td>No</td>\n",
       "      <td>0</td>\n",
       "      <td>Graduate</td>\n",
       "      <td>No</td>\n",
       "      <td>600000</td>\n",
       "      <td>0.0</td>\n",
       "      <td>14100000</td>\n",
       "      <td>360.0</td>\n",
       "      <td>1.0</td>\n",
       "      <td>Urban</td>\n",
       "      <td>Y</td>\n",
       "    </tr>\n",
       "  </tbody>\n",
       "</table>\n",
       "</div>"
      ],
      "text/plain": [
       "  Gender Married Dependents     Education Self_Employed  Applicant_Income  \\\n",
       "0   Male      No          0      Graduate            No            584900   \n",
       "1   Male     Yes          1      Graduate            No            458300   \n",
       "2   Male     Yes          0      Graduate           Yes            300000   \n",
       "3   Male     Yes          0  Not Graduate            No            258300   \n",
       "4   Male      No          0      Graduate            No            600000   \n",
       "\n",
       "   Coapplicant_Income  Loan_Amount   Term  Credit_History   Area Status  \n",
       "0                 0.0     15000000  360.0             1.0  Urban      Y  \n",
       "1            150800.0     12800000  360.0             1.0  Rural      N  \n",
       "2                 0.0      6600000  360.0             1.0  Urban      Y  \n",
       "3            235800.0     12000000  360.0             1.0  Urban      Y  \n",
       "4                 0.0     14100000  360.0             1.0  Urban      Y  "
      ]
     },
     "execution_count": 20,
     "metadata": {},
     "output_type": "execute_result"
    }
   ],
   "source": [
    "# 데이터 확인\n",
    "complete_data.head(5)"
   ]
  },
  {
   "cell_type": "markdown",
   "id": "98149e66",
   "metadata": {},
   "source": [
    "### 적용해볼 수 있는 요소\n",
    "- 범주형 데이터의 숫자화\n",
    "- 표준화 ex) min-max, normalizations\n",
    "- 이상치 탐지 및 대치"
   ]
  },
  {
   "cell_type": "code",
   "execution_count": 22,
   "id": "58772b82",
   "metadata": {},
   "outputs": [
    {
     "data": {
      "text/html": [
       "<div>\n",
       "<style scoped>\n",
       "    .dataframe tbody tr th:only-of-type {\n",
       "        vertical-align: middle;\n",
       "    }\n",
       "\n",
       "    .dataframe tbody tr th {\n",
       "        vertical-align: top;\n",
       "    }\n",
       "\n",
       "    .dataframe thead th {\n",
       "        text-align: right;\n",
       "    }\n",
       "</style>\n",
       "<table border=\"1\" class=\"dataframe\">\n",
       "  <thead>\n",
       "    <tr style=\"text-align: right;\">\n",
       "      <th></th>\n",
       "      <th>Applicant_Income</th>\n",
       "      <th>Coapplicant_Income</th>\n",
       "      <th>Loan_Amount</th>\n",
       "      <th>Term</th>\n",
       "      <th>Credit_History</th>\n",
       "    </tr>\n",
       "  </thead>\n",
       "  <tbody>\n",
       "    <tr>\n",
       "      <th>count</th>\n",
       "      <td>4.990000e+02</td>\n",
       "      <td>4.990000e+02</td>\n",
       "      <td>4.990000e+02</td>\n",
       "      <td>499.000000</td>\n",
       "      <td>499.000000</td>\n",
       "    </tr>\n",
       "    <tr>\n",
       "      <th>mean</th>\n",
       "      <td>5.336128e+05</td>\n",
       "      <td>1.566996e+05</td>\n",
       "      <td>1.395251e+07</td>\n",
       "      <td>342.012024</td>\n",
       "      <td>0.851703</td>\n",
       "    </tr>\n",
       "    <tr>\n",
       "      <th>std</th>\n",
       "      <td>5.618157e+05</td>\n",
       "      <td>2.580955e+05</td>\n",
       "      <td>8.345237e+06</td>\n",
       "      <td>64.860368</td>\n",
       "      <td>0.355750</td>\n",
       "    </tr>\n",
       "    <tr>\n",
       "      <th>min</th>\n",
       "      <td>1.500000e+04</td>\n",
       "      <td>0.000000e+00</td>\n",
       "      <td>0.000000e+00</td>\n",
       "      <td>36.000000</td>\n",
       "      <td>0.000000</td>\n",
       "    </tr>\n",
       "    <tr>\n",
       "      <th>25%</th>\n",
       "      <td>2.885500e+05</td>\n",
       "      <td>0.000000e+00</td>\n",
       "      <td>9.800000e+06</td>\n",
       "      <td>360.000000</td>\n",
       "      <td>1.000000</td>\n",
       "    </tr>\n",
       "    <tr>\n",
       "      <th>50%</th>\n",
       "      <td>3.859000e+05</td>\n",
       "      <td>1.086000e+05</td>\n",
       "      <td>1.260000e+07</td>\n",
       "      <td>360.000000</td>\n",
       "      <td>1.000000</td>\n",
       "    </tr>\n",
       "    <tr>\n",
       "      <th>75%</th>\n",
       "      <td>5.825000e+05</td>\n",
       "      <td>2.251500e+05</td>\n",
       "      <td>1.665000e+07</td>\n",
       "      <td>360.000000</td>\n",
       "      <td>1.000000</td>\n",
       "    </tr>\n",
       "    <tr>\n",
       "      <th>max</th>\n",
       "      <td>8.100000e+06</td>\n",
       "      <td>3.383700e+06</td>\n",
       "      <td>6.000000e+07</td>\n",
       "      <td>480.000000</td>\n",
       "      <td>1.000000</td>\n",
       "    </tr>\n",
       "  </tbody>\n",
       "</table>\n",
       "</div>"
      ],
      "text/plain": [
       "       Applicant_Income  Coapplicant_Income   Loan_Amount        Term  \\\n",
       "count      4.990000e+02        4.990000e+02  4.990000e+02  499.000000   \n",
       "mean       5.336128e+05        1.566996e+05  1.395251e+07  342.012024   \n",
       "std        5.618157e+05        2.580955e+05  8.345237e+06   64.860368   \n",
       "min        1.500000e+04        0.000000e+00  0.000000e+00   36.000000   \n",
       "25%        2.885500e+05        0.000000e+00  9.800000e+06  360.000000   \n",
       "50%        3.859000e+05        1.086000e+05  1.260000e+07  360.000000   \n",
       "75%        5.825000e+05        2.251500e+05  1.665000e+07  360.000000   \n",
       "max        8.100000e+06        3.383700e+06  6.000000e+07  480.000000   \n",
       "\n",
       "       Credit_History  \n",
       "count      499.000000  \n",
       "mean         0.851703  \n",
       "std          0.355750  \n",
       "min          0.000000  \n",
       "25%          1.000000  \n",
       "50%          1.000000  \n",
       "75%          1.000000  \n",
       "max          1.000000  "
      ]
     },
     "execution_count": 22,
     "metadata": {},
     "output_type": "execute_result"
    }
   ],
   "source": [
    "# 연속형 데이터 확인\n",
    "complete_data.describe()"
   ]
  },
  {
   "cell_type": "markdown",
   "id": "ad6bd457",
   "metadata": {},
   "source": [
    "- 특별히 튀는 값은 보이지 않음\n",
    "- 단위가 너무 커서 표준화 적용해야 할 것으로 보임"
   ]
  },
  {
   "cell_type": "code",
   "execution_count": 27,
   "id": "350659b2",
   "metadata": {},
   "outputs": [
    {
     "name": "stdout",
     "output_type": "stream",
     "text": [
      "<class 'pandas.core.frame.DataFrame'>\n",
      "Int64Index: 499 entries, 0 to 613\n",
      "Data columns (total 12 columns):\n",
      " #   Column              Non-Null Count  Dtype  \n",
      "---  ------              --------------  -----  \n",
      " 0   Gender              499 non-null    object \n",
      " 1   Married             499 non-null    object \n",
      " 2   Dependents          499 non-null    object \n",
      " 3   Education           499 non-null    object \n",
      " 4   Self_Employed       499 non-null    object \n",
      " 5   Applicant_Income    499 non-null    int64  \n",
      " 6   Coapplicant_Income  499 non-null    float64\n",
      " 7   Loan_Amount         499 non-null    int64  \n",
      " 8   Term                499 non-null    float64\n",
      " 9   Credit_History      499 non-null    float64\n",
      " 10  Area                499 non-null    object \n",
      " 11  Status              499 non-null    object \n",
      "dtypes: float64(3), int64(2), object(7)\n",
      "memory usage: 50.7+ KB\n"
     ]
    }
   ],
   "source": [
    "# 데이터 형식 확인\n",
    "complete_data.info()"
   ]
  },
  {
   "cell_type": "code",
   "execution_count": 41,
   "id": "4a331e91",
   "metadata": {},
   "outputs": [
    {
     "data": {
      "text/plain": [
       "Gender                 object\n",
       "Married                object\n",
       "Dependents             object\n",
       "Education              object\n",
       "Self_Employed          object\n",
       "Applicant_Income        int64\n",
       "Coapplicant_Income    float64\n",
       "Loan_Amount             int64\n",
       "Term                  float64\n",
       "Credit_History        float64\n",
       "Area                   object\n",
       "Status                 object\n",
       "dtype: object"
      ]
     },
     "execution_count": 41,
     "metadata": {},
     "output_type": "execute_result"
    }
   ],
   "source": [
    "complete_data.dtypes"
   ]
  },
  {
   "cell_type": "code",
   "execution_count": 121,
   "id": "5ad84776",
   "metadata": {},
   "outputs": [
    {
     "data": {
      "text/plain": [
       "1      N\n",
       "7      N\n",
       "9      N\n",
       "13     N\n",
       "17     N\n",
       "      ..\n",
       "589    N\n",
       "591    N\n",
       "596    N\n",
       "605    N\n",
       "613    N\n",
       "Name: Status, Length: 158, dtype: object"
      ]
     },
     "execution_count": 121,
     "metadata": {},
     "output_type": "execute_result"
    }
   ],
   "source": [
    "# 타겟의 카테고리별 개수\n",
    "complete_data['Status'][complete_data['Status'] == 'N']"
   ]
  },
  {
   "cell_type": "markdown",
   "id": "98dc54a4",
   "metadata": {},
   "source": [
    "- 341:158 : 약 2.3:1 비율로 불균형이라고 보기도 애매하고 아니기도 애매하기에 일단은 그냥 진행"
   ]
  },
  {
   "cell_type": "markdown",
   "id": "ba4d6ae7",
   "metadata": {},
   "source": [
    "## 범주형 변수 - LabelEncoding\n",
    "- 결정트리 모델을 활용하기 때문에 이것으로 적용가능\n",
    "- 결정트리가 아닐 경우 one-hot encoding 권장"
   ]
  },
  {
   "cell_type": "code",
   "execution_count": 80,
   "id": "2fd3ef6a",
   "metadata": {},
   "outputs": [],
   "source": [
    "# 범주형 변수만 LabelEncoding\n",
    "encode_cate = pd.DataFrame() # 범주변수 저장\n",
    "encode_num = pd.DataFrame() # 연속 변수 저장\n",
    "for attribute, col in zip(complete_data.dtypes, complete_data.columns): # 변수 타입과 열 이름\n",
    "    if attribute == 'object':\n",
    "        le = LabelEncoder() # 인코더 불러오기\n",
    "        le.fit(complete_data[col]) # 적합\n",
    "        encode_cate[col] = le.transform(complete_data[col]) # 변화시켜 저장\n",
    "    else:\n",
    "        encode_num[col] = complete_data[col] # 연속 변수는 그대로 저장"
   ]
  },
  {
   "cell_type": "markdown",
   "id": "ee659d97",
   "metadata": {},
   "source": [
    "## 연속형 변수 - Normalization Scaling"
   ]
  },
  {
   "cell_type": "code",
   "execution_count": 81,
   "id": "febffb12",
   "metadata": {},
   "outputs": [],
   "source": [
    "# StandardScaler객체 생성\n",
    "scaler = StandardScaler()"
   ]
  },
  {
   "cell_type": "code",
   "execution_count": 82,
   "id": "140f4c12",
   "metadata": {},
   "outputs": [],
   "source": [
    "# StandardScaler 로 데이터 셋 변환 .fit( ) 과 .transform( ) 호출\n",
    "scaler.fit(encode_num)\n",
    "trans_num = scaler.transform(encode_num)"
   ]
  },
  {
   "cell_type": "code",
   "execution_count": 83,
   "id": "2ebeb9cb",
   "metadata": {},
   "outputs": [],
   "source": [
    "# transform( )시 scale 변환된 데이터 셋이 numpy ndarry로 반환되어 이를 DataFrame으로 변환\n",
    "trans_num_scaled = pd.DataFrame(data=trans_num, columns=encode_num.columns)"
   ]
  },
  {
   "cell_type": "code",
   "execution_count": 84,
   "id": "052f7970",
   "metadata": {},
   "outputs": [
    {
     "name": "stdout",
     "output_type": "stream",
     "text": [
      "feature 들의 표준화 평균 값\n",
      "8.187616694630413e-17\n",
      "\n",
      "feature 들의 표준화 표준편차 값\n",
      "1.0\n"
     ]
    }
   ],
   "source": [
    "# test set에도 똑같은 값으로 적용해야하기 때문에 그대로 사용\n",
    "print('feature 들의 표준화 평균 값')\n",
    "print(trans_num.mean())\n",
    "print('\\nfeature 들의 표준화 표준편차 값')\n",
    "print(trans_num.std())"
   ]
  },
  {
   "cell_type": "markdown",
   "id": "bb984934",
   "metadata": {},
   "source": [
    "## 데이터 결합"
   ]
  },
  {
   "cell_type": "code",
   "execution_count": 85,
   "id": "b0c41b81",
   "metadata": {},
   "outputs": [],
   "source": [
    "# 사용할 데이터 합치기\n",
    "use_data = pd.concat([encode_cate, trans_num_scaled], axis = 1)"
   ]
  },
  {
   "cell_type": "code",
   "execution_count": 86,
   "id": "3fc2f1ef",
   "metadata": {},
   "outputs": [
    {
     "data": {
      "text/html": [
       "<div>\n",
       "<style scoped>\n",
       "    .dataframe tbody tr th:only-of-type {\n",
       "        vertical-align: middle;\n",
       "    }\n",
       "\n",
       "    .dataframe tbody tr th {\n",
       "        vertical-align: top;\n",
       "    }\n",
       "\n",
       "    .dataframe thead th {\n",
       "        text-align: right;\n",
       "    }\n",
       "</style>\n",
       "<table border=\"1\" class=\"dataframe\">\n",
       "  <thead>\n",
       "    <tr style=\"text-align: right;\">\n",
       "      <th></th>\n",
       "      <th>Gender</th>\n",
       "      <th>Married</th>\n",
       "      <th>Dependents</th>\n",
       "      <th>Education</th>\n",
       "      <th>Self_Employed</th>\n",
       "      <th>Area</th>\n",
       "      <th>Status</th>\n",
       "      <th>Applicant_Income</th>\n",
       "      <th>Coapplicant_Income</th>\n",
       "      <th>Loan_Amount</th>\n",
       "      <th>Term</th>\n",
       "      <th>Credit_History</th>\n",
       "    </tr>\n",
       "  </thead>\n",
       "  <tbody>\n",
       "    <tr>\n",
       "      <th>0</th>\n",
       "      <td>1</td>\n",
       "      <td>0</td>\n",
       "      <td>0</td>\n",
       "      <td>0</td>\n",
       "      <td>0</td>\n",
       "      <td>2</td>\n",
       "      <td>1</td>\n",
       "      <td>0.091380</td>\n",
       "      <td>-0.607747</td>\n",
       "      <td>0.125646</td>\n",
       "      <td>0.277612</td>\n",
       "      <td>0.417274</td>\n",
       "    </tr>\n",
       "    <tr>\n",
       "      <th>1</th>\n",
       "      <td>1</td>\n",
       "      <td>1</td>\n",
       "      <td>1</td>\n",
       "      <td>0</td>\n",
       "      <td>0</td>\n",
       "      <td>0</td>\n",
       "      <td>0</td>\n",
       "      <td>-0.134187</td>\n",
       "      <td>-0.022881</td>\n",
       "      <td>-0.138242</td>\n",
       "      <td>0.277612</td>\n",
       "      <td>0.417274</td>\n",
       "    </tr>\n",
       "    <tr>\n",
       "      <th>2</th>\n",
       "      <td>1</td>\n",
       "      <td>1</td>\n",
       "      <td>0</td>\n",
       "      <td>0</td>\n",
       "      <td>1</td>\n",
       "      <td>2</td>\n",
       "      <td>1</td>\n",
       "      <td>-0.416235</td>\n",
       "      <td>-0.607747</td>\n",
       "      <td>-0.881926</td>\n",
       "      <td>0.277612</td>\n",
       "      <td>0.417274</td>\n",
       "    </tr>\n",
       "    <tr>\n",
       "      <th>3</th>\n",
       "      <td>1</td>\n",
       "      <td>1</td>\n",
       "      <td>0</td>\n",
       "      <td>1</td>\n",
       "      <td>0</td>\n",
       "      <td>2</td>\n",
       "      <td>1</td>\n",
       "      <td>-0.490533</td>\n",
       "      <td>0.306785</td>\n",
       "      <td>-0.234201</td>\n",
       "      <td>0.277612</td>\n",
       "      <td>0.417274</td>\n",
       "    </tr>\n",
       "    <tr>\n",
       "      <th>4</th>\n",
       "      <td>1</td>\n",
       "      <td>0</td>\n",
       "      <td>0</td>\n",
       "      <td>0</td>\n",
       "      <td>0</td>\n",
       "      <td>2</td>\n",
       "      <td>1</td>\n",
       "      <td>0.118284</td>\n",
       "      <td>-0.607747</td>\n",
       "      <td>0.017692</td>\n",
       "      <td>0.277612</td>\n",
       "      <td>0.417274</td>\n",
       "    </tr>\n",
       "  </tbody>\n",
       "</table>\n",
       "</div>"
      ],
      "text/plain": [
       "   Gender  Married  Dependents  Education  Self_Employed  Area  Status  \\\n",
       "0       1        0           0          0              0     2       1   \n",
       "1       1        1           1          0              0     0       0   \n",
       "2       1        1           0          0              1     2       1   \n",
       "3       1        1           0          1              0     2       1   \n",
       "4       1        0           0          0              0     2       1   \n",
       "\n",
       "   Applicant_Income  Coapplicant_Income  Loan_Amount      Term  Credit_History  \n",
       "0          0.091380           -0.607747     0.125646  0.277612        0.417274  \n",
       "1         -0.134187           -0.022881    -0.138242  0.277612        0.417274  \n",
       "2         -0.416235           -0.607747    -0.881926  0.277612        0.417274  \n",
       "3         -0.490533            0.306785    -0.234201  0.277612        0.417274  \n",
       "4          0.118284           -0.607747     0.017692  0.277612        0.417274  "
      ]
     },
     "execution_count": 86,
     "metadata": {},
     "output_type": "execute_result"
    }
   ],
   "source": [
    "# 완성된 데이터 확인\n",
    "use_data.head(5)"
   ]
  },
  {
   "cell_type": "markdown",
   "id": "79398716",
   "metadata": {},
   "source": [
    "## Train/ Valid 데이터로 나누기"
   ]
  },
  {
   "cell_type": "code",
   "execution_count": 91,
   "id": "3abbdcf0",
   "metadata": {},
   "outputs": [],
   "source": [
    "# 데이터 분류\n",
    "train_x, valid_x, train_y, valid_y = train_test_split(use_data[use_data.columns.difference(['Status'])], \n",
    "                                                      use_data['Status'],\n",
    "                                                      test_size=0.2,\n",
    "                                                      random_state=42)"
   ]
  },
  {
   "cell_type": "markdown",
   "id": "926e8262",
   "metadata": {},
   "source": [
    "# 모델 적합"
   ]
  },
  {
   "cell_type": "code",
   "execution_count": 131,
   "id": "d9ff56ae",
   "metadata": {},
   "outputs": [],
   "source": [
    "# 모델 불러오기\n",
    "rf = RandomForestClassifier()\n",
    "xgb = XGBClassifier()\n",
    "lgb = LGBMClassifier()"
   ]
  },
  {
   "cell_type": "code",
   "execution_count": 132,
   "id": "dae4995e",
   "metadata": {},
   "outputs": [
    {
     "data": {
      "text/plain": [
       "LGBMClassifier()"
      ]
     },
     "execution_count": 132,
     "metadata": {},
     "output_type": "execute_result"
    }
   ],
   "source": [
    "# 각 모델 학습\n",
    "rf.fit(train_x, train_y)\n",
    "xgb.fit(train_x, train_y)\n",
    "lgb.fit(train_x, train_y)"
   ]
  },
  {
   "cell_type": "code",
   "execution_count": 136,
   "id": "ca412f80",
   "metadata": {},
   "outputs": [],
   "source": [
    "# valid 대입\n",
    "rf.predict = rf.predict(valid_x)\n",
    "xgb.predict = xgb.predict(valid_x)\n",
    "lgb.predict = lgb.predict(valid_x)"
   ]
  },
  {
   "cell_type": "code",
   "execution_count": 138,
   "id": "1a7d3709",
   "metadata": {},
   "outputs": [
    {
     "data": {
      "text/plain": [
       "array([[24,  6],\n",
       "       [12, 58]], dtype=int64)"
      ]
     },
     "execution_count": 138,
     "metadata": {},
     "output_type": "execute_result"
    }
   ],
   "source": [
    "# RF CM\n",
    "confusion_matrix(rf.predict, valid_y)"
   ]
  },
  {
   "cell_type": "code",
   "execution_count": 140,
   "id": "ffbaca2e",
   "metadata": {},
   "outputs": [
    {
     "data": {
      "text/plain": [
       "array([[25,  9],\n",
       "       [11, 55]], dtype=int64)"
      ]
     },
     "execution_count": 140,
     "metadata": {},
     "output_type": "execute_result"
    }
   ],
   "source": [
    "# XGB CM\n",
    "confusion_matrix(xgb.predict, valid_y)"
   ]
  },
  {
   "cell_type": "code",
   "execution_count": 141,
   "id": "74dc039c",
   "metadata": {},
   "outputs": [
    {
     "data": {
      "text/plain": [
       "array([[25,  9],\n",
       "       [11, 55]], dtype=int64)"
      ]
     },
     "execution_count": 141,
     "metadata": {},
     "output_type": "execute_result"
    }
   ],
   "source": [
    "# LGBM CM\n",
    "confusion_matrix(lgb.predict, valid_y)"
   ]
  },
  {
   "cell_type": "code",
   "execution_count": null,
   "id": "5d81583b",
   "metadata": {},
   "outputs": [],
   "source": []
  }
 ],
 "metadata": {
  "kernelspec": {
   "display_name": "please",
   "language": "python",
   "name": "please"
  },
  "language_info": {
   "codemirror_mode": {
    "name": "ipython",
    "version": 3
   },
   "file_extension": ".py",
   "mimetype": "text/x-python",
   "name": "python",
   "nbconvert_exporter": "python",
   "pygments_lexer": "ipython3",
   "version": "3.7.13"
  }
 },
 "nbformat": 4,
 "nbformat_minor": 5
}
